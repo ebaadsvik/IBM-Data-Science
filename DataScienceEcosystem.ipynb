{
 "cells": [
  {
   "cell_type": "markdown",
   "id": "64eb7997-a9f4-410c-9c01-0f90c679d957",
   "metadata": {},
   "source": [
    "# Data Science Tools and Ecosystem"
   ]
  },
  {
   "cell_type": "markdown",
   "id": "49ebf775-0eb6-486d-a9fe-e3ababa9e524",
   "metadata": {
    "jp-MarkdownHeadingCollapsed": true
   },
   "source": [
    "In this notebook, data science tools ad ecosystms are summarized."
   ]
  },
  {
   "cell_type": "markdown",
   "id": "8688e302-0352-461c-8f04-5f13072fa4b2",
   "metadata": {},
   "source": [
    "__Objectives:__\n",
    "- List popular languages for data science\n",
    "- List popular software tools for data science\n",
    "- Introduction to RStudio\n",
    "- Setting up GitHub account"
   ]
  },
  {
   "cell_type": "markdown",
   "id": "71b3f4b5-9b83-452e-be69-d383f42b1667",
   "metadata": {},
   "source": [
    "## Author\n",
    "Emily Baadsvik"
   ]
  },
  {
   "cell_type": "markdown",
   "id": "83f669e1-7204-40e3-82e3-1da40656dcf3",
   "metadata": {},
   "source": [
    "Some of thepopular languages thatdata scientists use are:\n",
    "1. Python\n",
    "2. SQL\n",
    "3. R"
   ]
  },
  {
   "cell_type": "markdown",
   "id": "1ccb5cb6-230e-4cf9-ab95-0349a297b395",
   "metadata": {},
   "source": [
    "Some of the commonly used libraries used by data scientists include:\n",
    "1. Pandas\n",
    "2. NumPy\n",
    "3. SciKit-learn\n",
    "4. TensorFlow"
   ]
  },
  {
   "cell_type": "markdown",
   "id": "c188ee1e-fd7d-4d42-9f3e-707c391db7d2",
   "metadata": {},
   "source": [
    "|Data Science Tools|\n",
    "|------------------|\n",
    "|Jupyter|\n",
    "|RStudio|\n",
    "|Spyder|\n"
   ]
  },
  {
   "cell_type": "markdown",
   "id": "b233c317-93d8-4a4a-a5e3-f35edfefef0d",
   "metadata": {},
   "source": [
    "### Below are a few examples of evaluating arithmetic expressions in Python"
   ]
  },
  {
   "cell_type": "code",
   "execution_count": 2,
   "id": "b50669cd-cdc6-4e4a-a023-69b940856ea1",
   "metadata": {},
   "outputs": [
    {
     "data": {
      "text/plain": [
       "17"
      ]
     },
     "execution_count": 2,
     "metadata": {},
     "output_type": "execute_result"
    }
   ],
   "source": [
    "# this is a simple arithmetic expression to multiply then add integers\n",
    "(3*4)+5"
   ]
  },
  {
   "cell_type": "code",
   "execution_count": 11,
   "id": "e1a23fe4-a0dc-4a63-aed0-bb4a15147c83",
   "metadata": {},
   "outputs": [
    {
     "name": "stdout",
     "output_type": "stream",
     "text": [
      "3.3333333333333335\n"
     ]
    }
   ],
   "source": [
    "# convert minutes to hours\n",
    "mins = 200 \n",
    "hrs = mins/60\n",
    "print(hrs)"
   ]
  },
  {
   "cell_type": "markdown",
   "id": "cdd145cf-2d17-4ff5-b207-f42c3636849d",
   "metadata": {},
   "source": []
  }
 ],
 "metadata": {
  "kernelspec": {
   "display_name": "Python 3 (ipykernel)",
   "language": "python",
   "name": "python3"
  },
  "language_info": {
   "codemirror_mode": {
    "name": "ipython",
    "version": 3
   },
   "file_extension": ".py",
   "mimetype": "text/x-python",
   "name": "python",
   "nbconvert_exporter": "python",
   "pygments_lexer": "ipython3",
   "version": "3.13.5"
  }
 },
 "nbformat": 4,
 "nbformat_minor": 5
}
